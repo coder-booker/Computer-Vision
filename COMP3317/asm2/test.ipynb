{
 "cells": [
  {
   "cell_type": "code",
   "execution_count": 1,
   "metadata": {},
   "outputs": [],
   "source": [
    "import sys\n",
    "import argparse\n",
    "import numpy as np\n",
    "import matplotlib.pyplot as plt\n",
    "from scipy.ndimage import convolve1d"
   ]
  },
  {
   "cell_type": "code",
   "execution_count": 7,
   "metadata": {},
   "outputs": [
    {
     "name": "stdout",
     "output_type": "stream",
     "text": [
      "[[1.815 4.815 7.815]\n",
      " [1.815 4.815 7.815]\n",
      " [1.815 4.815 7.815]]\n"
     ]
    }
   ],
   "source": [
    "def rgb2gray(img_color) :\n",
    "\n",
    "    # input:\n",
    "    #    img_color - a h x w x 3 numpy ndarray (dtype = np.unit8) holding\n",
    "    #                the color image\n",
    "    # return:\n",
    "    #    img_gray - a h x w numpy ndarray (dtype = np.float64) holding\n",
    "    #               the grayscale image\n",
    "\n",
    "    # TODO: using the Y channel of the YIQ model to perform the conversion\n",
    "    \n",
    "    \n",
    "    img_gray = np.dot(img_color[..., :3], [0.299, 0.587, 0.114])\n",
    "    # def temp(channels):\n",
    "    #     return np.dot(channels, [0.299, 0.587, 0.114])\n",
    "    # img_gray = np.apply_along_axis(temp, -1, img_color)\n",
    "\n",
    "    return img_gray\n",
    "# a = np.array([[[1,2,3],[4,5,6],[7,8,9]],[[1,2,3],[4,5,6],[7,8,9]],[[1,2,3],[4,5,6],[7,8,9]]])\n",
    "# print(rgb2gray(a))"
   ]
  },
  {
   "cell_type": "code",
   "execution_count": null,
   "metadata": {},
   "outputs": [],
   "source": []
  }
 ],
 "metadata": {
  "kernelspec": {
   "display_name": "Python 3",
   "language": "python",
   "name": "python3"
  },
  "language_info": {
   "codemirror_mode": {
    "name": "ipython",
    "version": 3
   },
   "file_extension": ".py",
   "mimetype": "text/x-python",
   "name": "python",
   "nbconvert_exporter": "python",
   "pygments_lexer": "ipython3",
   "version": "3.8.0"
  }
 },
 "nbformat": 4,
 "nbformat_minor": 2
}
