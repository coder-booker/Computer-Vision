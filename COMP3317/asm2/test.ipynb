{
 "cells": [
  {
   "cell_type": "code",
   "execution_count": 1,
   "metadata": {},
   "outputs": [],
   "source": [
    "import sys\n",
    "import argparse\n",
    "import numpy as np\n",
    "import matplotlib.pyplot as plt\n",
    "from scipy.ndimage import convolve1d"
   ]
  },
  {
   "cell_type": "code",
   "execution_count": 7,
   "metadata": {},
   "outputs": [
    {
     "name": "stdout",
     "output_type": "stream",
     "text": [
      "[[1.815 4.815 7.815]\n",
      " [1.815 4.815 7.815]\n",
      " [1.815 4.815 7.815]]\n"
     ]
    }
   ],
   "source": [
    "def rgb2gray(img_color) :\n",
    "\n",
    "    # input:\n",
    "    #    img_color - a h x w x 3 numpy ndarray (dtype = np.unit8) holding\n",
    "    #                the color image\n",
    "    # return:\n",
    "    #    img_gray - a h x w numpy ndarray (dtype = np.float64) holding\n",
    "    #               the grayscale image\n",
    "\n",
    "    # TODO: using the Y channel of the YIQ model to perform the conversion\n",
    "    \n",
    "    \n",
    "    img_gray = np.dot(img_color[..., :3], [0.299, 0.587, 0.114])\n",
    "    # def temp(channels):\n",
    "    #     return np.dot(channels, [0.299, 0.587, 0.114])\n",
    "    # img_gray = np.apply_along_axis(temp, -1, img_color)\n",
    "\n",
    "    return img_gray\n",
    "# a = np.array([[[1,2,3],[4,5,6],[7,8,9]],[[1,2,3],[4,5,6],[7,8,9]],[[1,2,3],[4,5,6],[7,8,9]]])\n",
    "# print(rgb2gray(a))"
   ]
  },
  {
   "cell_type": "code",
   "execution_count": 39,
   "metadata": {},
   "outputs": [],
   "source": [
    "def smooth1D(img, sigma, m) :\n",
    "    # input :\n",
    "    #    img - a h x w numpy ndarray holding the image to be smoothed\n",
    "    #    sigma - sigma value of the 1D Gaussian function\n",
    "    # return:\n",
    "    #    img_smoothed - a h x w numpy ndarry holding the 1D smoothing result\n",
    "\n",
    "    n = int(sigma * (2*np.log(1000))**0.5)\n",
    "    # arange(-n, n+1) due to the 0 mean value of the gaussian distribution we set\n",
    "    kernal = np.exp(-(np.arange(-n, n+1)**2) / (2 * sigma**2))\n",
    "    \n",
    "    if m:\n",
    "        # # normalize method 1: \n",
    "        norm_mat = kernal / kernal.sum()\n",
    "        \n",
    "        img_smoothed = convolve1d(img, norm_mat, axis=-1, output=np.float64, mode='constant', cval=0, origin=0)\n",
    "    else:\n",
    "        # normalize method 2:\n",
    "        img_smoothed = convolve1d(img, kernal, axis=-1, output=np.float64, mode='constant', cval=0, origin=0)\n",
    "        \n",
    "        norm_mat = np.ones(img.shape[1])\n",
    "        norm_mat = convolve1d(norm_mat, kernal, axis=-1, output=np.float64, mode='constant', cval=0, origin=0)\n",
    "        norm_mat = np.tile(norm_mat, (img.shape[0], 1))\n",
    "        \n",
    "        img_smoothed /= norm_mat\n",
    "    \n",
    "    return img_smoothed"
   ]
  },
  {
   "cell_type": "code",
   "execution_count": 40,
   "metadata": {},
   "outputs": [
    {
     "name": "stdout",
     "output_type": "stream",
     "text": [
      "[[ 9.63328351 13.64589136 11.7035517 ]\n",
      " [ 9.47021964 14.79711094 15.33597949]\n",
      " [10.48038696 13.48887731 10.82543165]]\n",
      "[[13.85900319 15.45186276 16.83741167]\n",
      " [13.62440999 16.755441   22.06323402]\n",
      " [15.07769558 15.27406862 15.57409699]]\n"
     ]
    }
   ],
   "source": [
    "a = np.array([[12, 16, 18], [13, 11, 30], [15, 15, 16]])\n",
    "b = 1\n",
    "print(smooth1D(a, b, 1))\n",
    "print(smooth1D(a, b, 0))"
   ]
  },
  {
   "cell_type": "code",
   "execution_count": 43,
   "metadata": {},
   "outputs": [
    {
     "name": "stdout",
     "output_type": "stream",
     "text": [
      "<class 'numpy.ndarray'>\n"
     ]
    }
   ],
   "source": [
    "a = np.arange(9)\n",
    "print(type(a))"
   ]
  },
  {
   "cell_type": "code",
   "execution_count": 44,
   "metadata": {},
   "outputs": [],
   "source": [
    "def smooth2D(img:np.ndarray, sigma) :\n",
    "    # input:\n",
    "    #    img - a h x w numpy ndarray holding the image to be smoothed\n",
    "    #    sigma - sigma value of the Gaussian function\n",
    "    # return:\n",
    "    #    img_smoothed - a h x w numpy array holding the 2D smoothing result\n",
    "\n",
    "    # TODO: smooth the image along the vertical direction\n",
    "    img_smoothed = smooth1D(img, sigma, 0)\n",
    "    # TODO: smooth the image along the horizontal direction\n",
    "    img_smoothed = smooth1D(img_smoothed.T, sigma, 0)\n",
    "    \n",
    "    return img_smoothed"
   ]
  },
  {
   "cell_type": "code",
   "execution_count": 47,
   "metadata": {},
   "outputs": [],
   "source": [
    "def load_image(inputfile) :\n",
    "    # input:\n",
    "    #    inputfile - path of the image file\n",
    "    # return:\n",
    "    #    img_color - a h x w x 3 numpy ndarray (dtype = np.unit8) holding\n",
    "    #                the color image\n",
    "\n",
    "    try :\n",
    "        img_color = plt.imread(inputfile)\n",
    "        return img_color\n",
    "    except :\n",
    "        print('Cannot open \\'{}\\'.'.format(inputfile))\n",
    "        \n",
    "def main() :\n",
    "    parser = argparse.ArgumentParser(description = 'COMP3317 Assignment 2')\n",
    "    parser.add_argument('-i', '--image', type = str, default = 'grid1.jpg',\n",
    "                        help = 'filename of input image')\n",
    "    parser.add_argument('-s', '--sigma', type = float, default = 1.0,\n",
    "                        help = 'sigma value for Gaussain filter (default = 1.0)')\n",
    "    parser.add_argument('-t', '--threshold', type = float, default = 1e6,\n",
    "                        help = 'threshold value for corner detection (default = 1e6)')\n",
    "    parser.add_argument('-o', '--output', type = str,\n",
    "                        help = 'filename for outputting corner detection result')\n",
    "    args = parser.parse_args()\n",
    "\n",
    "    print('------------------------------')\n",
    "    print('COMP3317 Assignment 2')\n",
    "    print('input file : {}'.format(args.image))\n",
    "    print('sigma      : {:.2f}'.format(args.sigma))\n",
    "    print('threshold  : {:.2e}'.format(args.threshold))\n",
    "    print('output file: {}'.format(args.output))\n",
    "    print('------------------------------')\n",
    "\n",
    "    # load the image\n",
    "    img_color = load_image(args.image)\n",
    "    print('\\'{}\\' loaded...'.format(args.image))\n",
    "\n",
    "    # uncomment the following 2 lines to show the color image\n",
    "    # plt.imshow(np.uint8(img_color))\n",
    "    # plt.show()\n",
    "\n",
    "    # perform RGB to gray conversion\n",
    "    print('perform RGB to grayscale conversion...')\n",
    "    img_gray = smooth2D(rgb2gray(img_color), 1.0)\n",
    "    # uncomment the following 2 lines to show the grayscale image\n",
    "    plt.imshow(np.float32(img_gray), cmap = 'gray')\n",
    "    plt.show()"
   ]
  },
  {
   "cell_type": "code",
   "execution_count": 48,
   "metadata": {},
   "outputs": [
    {
     "name": "stderr",
     "output_type": "stream",
     "text": [
      "usage: ipykernel_launcher.py [-h] [-i IMAGE] [-s SIGMA] [-t THRESHOLD]\n",
      "                             [-o OUTPUT]\n",
      "ipykernel_launcher.py: error: unrecognized arguments: --f=c:\\Users\\booker\\AppData\\Roaming\\jupyter\\runtime\\kernel-v2-11040cvSQ9hPO6gQ0.json\n"
     ]
    },
    {
     "ename": "SystemExit",
     "evalue": "2",
     "output_type": "error",
     "traceback": [
      "An exception has occurred, use %tb to see the full traceback.\n",
      "\u001b[1;31mSystemExit\u001b[0m\u001b[1;31m:\u001b[0m 2\n"
     ]
    }
   ],
   "source": [
    "main()"
   ]
  },
  {
   "cell_type": "code",
   "execution_count": 13,
   "metadata": {},
   "outputs": [
    {
     "name": "stdout",
     "output_type": "stream",
     "text": [
      "[[-3.   5.   1.   2. ]\n",
      " [ 0.5  0.  -1.   1.5]\n",
      " [ 4.  -5.  -3.   1. ]]\n"
     ]
    }
   ],
   "source": [
    "a = np.array([[6, 3, 5, 1],[3, 8, 6, 3],[7, 3, 3, 4]])\n",
    "print(np.gradient(a)[0])"
   ]
  },
  {
   "cell_type": "code",
   "execution_count": 1,
   "metadata": {},
   "outputs": [],
   "source": [
    "import numpy as np\n"
   ]
  },
  {
   "cell_type": "code",
   "execution_count": 12,
   "metadata": {},
   "outputs": [
    {
     "name": "stdout",
     "output_type": "stream",
     "text": [
      "(array([6, 3, 5, 1]), array([3, 8, 6, 3]))\n"
     ]
    }
   ],
   "source": [
    "a = np.array([[6, 3, 5, 1],[3, 8, 6, 3]])\n",
    "a[0] = np.array([1, 2, 3, 4])\n",
    "print(a)"
   ]
  }
 ],
 "metadata": {
  "kernelspec": {
   "display_name": "Python 3",
   "language": "python",
   "name": "python3"
  },
  "language_info": {
   "codemirror_mode": {
    "name": "ipython",
    "version": 3
   },
   "file_extension": ".py",
   "mimetype": "text/x-python",
   "name": "python",
   "nbconvert_exporter": "python",
   "pygments_lexer": "ipython3",
   "version": "3.8.0"
  }
 },
 "nbformat": 4,
 "nbformat_minor": 2
}
